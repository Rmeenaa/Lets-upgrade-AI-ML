{
 "cells": [
  {
   "cell_type": "code",
   "execution_count": 8,
   "metadata": {},
   "outputs": [
    {
     "name": "stdout",
     "output_type": "stream",
     "text": [
      "Addition of Complex value is: (7+10j)\n",
      "Substraction of complex value is: (1+2j)\n",
      "Division of complex value is: (1.44+0.08j)\n",
      "Multiplication of complex value is: (-12+34j)\n",
      "The value of root is: (-20+48j) (-7+24j)\n"
     ]
    },
    {
     "ename": "TypeError",
     "evalue": "can't mod complex numbers.",
     "output_type": "error",
     "traceback": [
      "\u001b[1;31m---------------------------------------------------------------------------\u001b[0m",
      "\u001b[1;31mTypeError\u001b[0m                                 Traceback (most recent call last)",
      "\u001b[1;32m<ipython-input-8-52e6127065ba>\u001b[0m in \u001b[0;36m<module>\u001b[1;34m\u001b[0m\n\u001b[0;32m      6\u001b[0m \u001b[0mprint\u001b[0m\u001b[1;33m(\u001b[0m\u001b[1;34m\"Multiplication of complex value is:\"\u001b[0m\u001b[1;33m,\u001b[0m\u001b[0ma\u001b[0m\u001b[1;33m*\u001b[0m\u001b[0mb\u001b[0m\u001b[1;33m)\u001b[0m\u001b[1;33m\u001b[0m\u001b[1;33m\u001b[0m\u001b[0m\n\u001b[0;32m      7\u001b[0m \u001b[0mprint\u001b[0m\u001b[1;33m(\u001b[0m\u001b[1;34m\"The value of root is:\"\u001b[0m\u001b[1;33m,\u001b[0m\u001b[0ma\u001b[0m\u001b[1;33m**\u001b[0m\u001b[1;36m2\u001b[0m\u001b[1;33m,\u001b[0m\u001b[0mb\u001b[0m\u001b[1;33m**\u001b[0m\u001b[1;36m2\u001b[0m\u001b[1;33m)\u001b[0m\u001b[1;33m\u001b[0m\u001b[1;33m\u001b[0m\u001b[0m\n\u001b[1;32m----> 8\u001b[1;33m \u001b[0mprint\u001b[0m\u001b[1;33m(\u001b[0m\u001b[1;34m\"The Value of Reminder is:\"\u001b[0m\u001b[1;33m,\u001b[0m\u001b[0ma\u001b[0m\u001b[1;33m%\u001b[0m\u001b[0mb\u001b[0m\u001b[1;33m)\u001b[0m\u001b[1;33m\u001b[0m\u001b[1;33m\u001b[0m\u001b[0m\n\u001b[0m\u001b[0;32m      9\u001b[0m \u001b[0mprint\u001b[0m\u001b[1;33m(\u001b[0m\u001b[1;34m\"Floor division of complex value is:\"\u001b[0m\u001b[1;33m,\u001b[0m\u001b[0ma\u001b[0m\u001b[1;33m//\u001b[0m\u001b[0mb\u001b[0m\u001b[1;33m)\u001b[0m\u001b[1;33m\u001b[0m\u001b[1;33m\u001b[0m\u001b[0m\n",
      "\u001b[1;31mTypeError\u001b[0m: can't mod complex numbers."
     ]
    }
   ],
   "source": [
    "#Question 1:\n",
    "a=4+6j\n",
    "b=3+4j\n",
    "print(\"Addition of Complex value is:\",a+b)\n",
    "print(\"Substraction of complex value is:\",a-b)\n",
    "print(\"Division of complex value is:\",a/b)\n",
    "print(\"Multiplication of complex value is:\",a*b)\n",
    "print(\"The value of root is:\",a**2,b**2)\n",
    "print(\"The Value of Reminder is:\",a%b)\n",
    "print(\"Floor division of complex value is:\",a//b)"
   ]
  },
  {
   "cell_type": "markdown",
   "metadata": {},
   "source": [
    "Range Function:\n",
    "        It is a built in function and it is used to genetarte the sequence of numbers,it will be commenly used in loops(For and while)"
   ]
  },
  {
   "cell_type": "code",
   "execution_count": 19,
   "metadata": {},
   "outputs": [
    {
     "name": "stdout",
     "output_type": "stream",
     "text": [
      "The value is 0\n",
      "The value is 1\n",
      "The value is 2\n",
      "The value is 3\n",
      "The value is 4\n",
      "The value is 5\n",
      "The value is 6\n",
      "The value is 7\n",
      "The value is 8\n",
      "The value is 9\n"
     ]
    }
   ],
   "source": [
    "#Question 2:\n",
    "a=5\n",
    "for i in range(10):\n",
    "     print(\"The value is\",i)"
   ]
  },
  {
   "cell_type": "code",
   "execution_count": 26,
   "metadata": {},
   "outputs": [
    {
     "name": "stdin",
     "output_type": "stream",
     "text": [
      "enter the value of a: 35\n",
      "enter the value of b: 10\n"
     ]
    },
    {
     "name": "stdout",
     "output_type": "stream",
     "text": [
      "***************************************************\n",
      "The multiplication value is: 350\n",
      "***************************************************\n"
     ]
    }
   ],
   "source": [
    "# Question 3:\n",
    "a=int(input(\"enter the value of a:\"))\n",
    "b=int(input(\"enter the value of b:\"))\n",
    "c=a-b\n",
    "print(\"***************************************************\")\n",
    "if c>=25:\n",
    "    print(\"The multiplication value is:\",a*b)\n",
    "else:\n",
    "    print(\"The division value is:\",a/b)\n",
    "print(\"***************************************************\")"
   ]
  },
  {
   "cell_type": "code",
   "execution_count": 28,
   "metadata": {},
   "outputs": [
    {
     "name": "stdout",
     "output_type": "stream",
     "text": [
      "square of that number minus 2\n",
      "the number in the list is divisible by 2\n",
      "square of that number minus 2\n",
      "the number in the list is divisible by 2\n",
      "the number in the list is divisible by 2\n",
      "the number in the list is divisible by 2\n",
      "the number in the list is divisible by 2\n",
      "square of that number minus 2\n",
      "the number in the list is divisible by 2\n",
      "square of that number minus 2\n"
     ]
    }
   ],
   "source": [
    "# Question 4:\n",
    "l=[1,2,3,4,6,8,10,13,16,25]\n",
    "for i in l:\n",
    "    if i%2==0:\n",
    "        print(\"the number in the list is divisible by 2\")\n",
    "    else:\n",
    "        print(\"square of that number minus 2\")"
   ]
  },
  {
   "cell_type": "code",
   "execution_count": 34,
   "metadata": {},
   "outputs": [
    {
     "name": "stdout",
     "output_type": "stream",
     "text": [
      "The number is not divisable by 2 and not greater than 7 1\n",
      "The number is not divisable by 2 and not greater than 7 2\n",
      "The number is not divisable by 2 and not greater than 7 3\n",
      "The number is not divisable by 2 and not greater than 7 4\n",
      "The number is not divisable by 2 and not greater than 7 10\n",
      "The number is not divisable by 2 and not greater than 7 13\n",
      "The number is divisable by 2 and greater than 7 16\n",
      "The number is divisable by 2 and greater than 7 25\n",
      "The number is divisable by 2 and greater than 7 28\n",
      "The number is divisable by 2 and greater than 7 32\n"
     ]
    }
   ],
   "source": [
    "# Question 5:\n",
    "l=[1,2,3,4,10,13,16,25,28,32]\n",
    "for i in l:\n",
    "    if (i/2>7):\n",
    "        print(\"The number is divisable by 2 and greater than 7\",i)\n",
    "    else:\n",
    "        print(\"The number is not divisable by 2 and not greater than 7\",i)"
   ]
  },
  {
   "cell_type": "code",
   "execution_count": null,
   "metadata": {},
   "outputs": [],
   "source": []
  }
 ],
 "metadata": {
  "kernelspec": {
   "display_name": "Python 3",
   "language": "python",
   "name": "python3"
  },
  "language_info": {
   "codemirror_mode": {
    "name": "ipython",
    "version": 3
   },
   "file_extension": ".py",
   "mimetype": "text/x-python",
   "name": "python",
   "nbconvert_exporter": "python",
   "pygments_lexer": "ipython3",
   "version": "3.7.6"
  }
 },
 "nbformat": 4,
 "nbformat_minor": 4
}
